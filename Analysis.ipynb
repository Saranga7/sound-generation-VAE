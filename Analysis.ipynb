{
 "cells": [
  {
   "cell_type": "code",
   "execution_count": 2,
   "metadata": {},
   "outputs": [],
   "source": [
    "import numpy as np\n",
    "import matplotlib.pyplot as plt\n",
    "\n",
    "from autoencoder import VAE\n",
    "from train import load_mnist"
   ]
  },
  {
   "cell_type": "code",
   "execution_count": 3,
   "metadata": {},
   "outputs": [],
   "source": [
    "def select_images(images,labels,num_images=10):\n",
    "    sample_imgs_index=np.random.choice(range(len(images)),num_images)\n",
    "    sample_imgs=images[sample_imgs_index]\n",
    "    sample_labels=labels[sample_imgs_index]\n",
    "    return sample_imgs,sample_labels"
   ]
  },
  {
   "cell_type": "code",
   "execution_count": 4,
   "metadata": {},
   "outputs": [],
   "source": [
    "def plot_reconstructed_images(images,recons_imgs):\n",
    "    fig=plt.figure(figsize=(15,3))\n",
    "    num_images=len(images)\n",
    "    for i,(image,recons_img) in enumerate(zip(images,recons_imgs)):\n",
    "        image=image.squeeze()\n",
    "        ax=fig.add_subplot(2,num_images,i+1)\n",
    "#         ax.axis(\"off\")\n",
    "        ax.imshow(image,cmap=\"gray_r\")\n",
    "        recons_img=recons_img.squeeze()\n",
    "        ax=fig.add_subplot(2,num_images,i+num_images+1)\n",
    "#         ax.axis(\"off\")\n",
    "        ax.imshow(recons_img,cmap=\"gray_r\")\n",
    "    plt.show()\n",
    "    "
   ]
  },
  {
   "cell_type": "code",
   "execution_count": 5,
   "metadata": {},
   "outputs": [],
   "source": [
    "def plot_imgs_encoded_in_latent_space(latent_reps, sample_labels):\n",
    "    plt.figure(figsize=(10,10))\n",
    "    plt.scatter(latent_reps[:,0],\n",
    "               latent_reps[:,1],\n",
    "               cmap=\"rainbow\",\n",
    "               c=sample_labels,\n",
    "               alpha=0.5,\n",
    "               s=2)\n",
    "    plt.colorbar()\n",
    "    plt.show()"
   ]
  },
  {
   "cell_type": "code",
   "execution_count": 6,
   "metadata": {},
   "outputs": [
    {
     "name": "stdout",
     "output_type": "stream",
     "text": [
      "WARNING:tensorflow:From C:\\Users\\Saranga\\Anaconda3\\lib\\site-packages\\tensorflow\\python\\ops\\init_ops.py:1251: calling VarianceScaling.__init__ (from tensorflow.python.ops.init_ops) with dtype is deprecated and will be removed in a future version.\n",
      "Instructions for updating:\n",
      "Call initializer instance with the dtype argument instead of passing it to the constructor\n"
     ]
    }
   ],
   "source": [
    "ae=VAE.load(\"model\")"
   ]
  },
  {
   "cell_type": "code",
   "execution_count": 7,
   "metadata": {},
   "outputs": [],
   "source": [
    "X_train,y_train,X_test,y_test=load_mnist()"
   ]
  },
  {
   "cell_type": "code",
   "execution_count": 8,
   "metadata": {},
   "outputs": [],
   "source": [
    "num_samples=10\n",
    "sample_imgs,_=select_images(X_test,y_test,num_samples)\n",
    "recons_imgs,_=ae.reconstruct(sample_imgs)"
   ]
  },
  {
   "cell_type": "code",
   "execution_count": null,
   "metadata": {},
   "outputs": [],
   "source": [
    "plot_reconstructed_images(sample_imgs,recons_imgs)"
   ]
  },
  {
   "cell_type": "code",
   "execution_count": null,
   "metadata": {},
   "outputs": [],
   "source": [
    "num_images=6000\n",
    "sample_imgs,sample_labels=select_images(X_test,y_test,num_samples)\n",
    "_, latent_reps=ae.reconstruct(sample_imgs)"
   ]
  },
  {
   "cell_type": "code",
   "execution_count": null,
   "metadata": {},
   "outputs": [],
   "source": [
    "plot_imgs_encoded_in_latent_space(latent_reps, sample_labels)"
   ]
  },
  {
   "cell_type": "code",
   "execution_count": null,
   "metadata": {},
   "outputs": [],
   "source": []
  }
 ],
 "metadata": {
  "kernelspec": {
   "display_name": "Python 3",
   "language": "python",
   "name": "python3"
  }
 },
 "nbformat": 4,
 "nbformat_minor": 2
}
